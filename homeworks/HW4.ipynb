{
 "cells": [
  {
   "cell_type": "markdown",
   "metadata": {},
   "source": [
    "<h1 align=\"center\">CSE 491</h1>\n",
    "<h4 align=\"center\">Homework 4</h4>\n",
    "<h5 align=\"center\">Ian Kirkpatrick</h5>"
   ]
  },
  {
   "cell_type": "markdown",
   "metadata": {},
   "source": [
    "<h1>Q1</h1>\n",
    "Recall the objective function for linear regression can be expressed as \n",
    "\n",
    "$E(w) = \\frac{1}{N}||Xw-y||^2$\n",
    "\n",
    "minimizing this function with respect to w leads to the optimal w as $(X^TX)^{-1}X^Ty$ this solution only holds when $X^TX$ is nonsingular. To get around this issue another objective function is commonly used instead:\n",
    "\n",
    "$E_2(w) = ||Xw-y||^2 + \\lambda||w||^2$\n",
    "\n",
    "where $\\lambda$ is a user specified parameter.\n",
    "\n",
    "<h2>(a)</h2>\n",
    "Derive the optimal w that minimizes $E_2(w)$\n",
    "\n",
    "$\\nabla E_2(w) = 2X^T(Xw-y)+2\\lambda w \\rightarrow w = (X^TX + \\lambda \\mathbf{I})^{-1} X^Ty$\n",
    "\n",
    "<h2>(b)</h2>\n",
    "\n",
    "Explain how this new objective function can overcome the singularity problem of X^TX\n",
    "\n",
    "$\\forall v \\ne 0, v^T(X^TX +\\lambda \\mathbf{I})v = v^T(X^TX)v +\\lambda v^Tv$\n",
    "\n",
    "since $v^T(X^TX)v \\ge 0$ and $\\lambda v^T v \\gt 0, X^TX + \\lambda \\mathbf{I}$ is positive definite, and invertible"
   ]
  },
  {
   "cell_type": "markdown",
   "metadata": {},
   "source": [
    "<hr>\n",
    "<h1>Q2:</h1>\n",
    "\n",
    "Consider the hat matrix $\\mathbf{H} = X(X^TX)^{-1}X^T$ where X is an $N$ by $d+1$ matrix and $X^TX$ is invertible\n",
    "\n",
    "<h2>(a)</h2>\n",
    "Show that $\\mathbf{H}$ is symmetric\n",
    "\n",
    "$\\mathbf{H}^T = ((X(X^TX)^{-1}X^T)^T = X((X^TX)^{-1})^TX^T = X(X^TX)^{-1}X^T = \\mathbf{H}$\n",
    "\n",
    "<h2>(b)</h2>\n",
    "Show that $\\mathbf{H}^k = \\mathbf{H}$ for any positive integer $K$ \n",
    "\n",
    "Assume when $K= 1$ it holds. For $K = n+ 1, \\mathbf{H}^{n+1} = \\mathbf{H}^n\\mathbf{H} = \\mathbf{H}\\mathbf{H} = \\mathbf{H}$ \n",
    "\n",
    "Hence $\\mathbf{H}^K = \\mathbf{H}$ holds for any positive integer $K$\n",
    "\n",
    "<h2>(c)</h2>\n",
    "If $\\mathbf{I}$ is the identity matrix of size $N$, show that $(\\mathbf{I}-\\mathbf{H})^K = \\mathbf{I} - \\mathbf{H}$ for any positive integer $K$\n",
    "\n",
    "Assume when $K= n$ it holds. For $K= n+1, (\\mathbf{I}-\\mathbf{H}^{n+1}) = (\\mathbf{I}-\\mathbf{H})^n(\\mathbf{I}-\\mathbf{H}) = (\\mathbf{I}-\\mathbf{H})(\\mathbf{I}-\\mathbf{H}) = (\\mathbf{I}-\\mathbf{H})$\n",
    "\n",
    "<h2>(d)</h2>\n",
    "Show that $trace(\\mathbf{H}) = d+1$ where the trace is the sum of diagonal elements.\n",
    "\n",
    "$trace(\\mathbf{H}) = trace(X(X^TX)^{-1}X^T) $\n",
    "\n",
    "$= trace(X^TX(X^TX)^{-1})$\n",
    "\n",
    "$= trace(\\mathbf{I_{(d+1)\\times(d+1)}})$\n",
    "\n",
    "$= d+1$"
   ]
  }
 ],
 "metadata": {
  "kernelspec": {
   "display_name": "Python 3",
   "language": "python",
   "name": "python3"
  },
  "language_info": {
   "codemirror_mode": {
    "name": "ipython",
    "version": 3
   },
   "file_extension": ".py",
   "mimetype": "text/x-python",
   "name": "python",
   "nbconvert_exporter": "python",
   "pygments_lexer": "ipython3",
   "version": "3.6.6"
  }
 },
 "nbformat": 4,
 "nbformat_minor": 2
}
