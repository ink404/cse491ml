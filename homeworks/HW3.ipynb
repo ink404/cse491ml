{
 "cells": [
  {
   "cell_type": "markdown",
   "metadata": {},
   "source": [
    "<h1 align=\"center\">CSE 491</h1>\n",
    "<h5 align=\"center\"> Homework #3 </h5>\n",
    "<h6 align=\"center\">Ian Kirkpatrick</h6> \n",
    "<hr>"
   ]
  },
  {
   "cell_type": "markdown",
   "metadata": {},
   "source": [
    "<h1>Q1:</h1>\n",
    "\n",
    "four colored boxes, r,g,b,y}\n",
    "\n",
    "$r \\in \\text{ 5 apples, 2 oranges, 3 mangoes}$\n",
    "\n",
    "$g \\in \\text{ 1 apples, 8 oranges, 4 mangoes}$\n",
    "\n",
    "$b \\in \\text{ 3 apples, 1 orange,  7 mangoes}$\n",
    "\n",
    "$y \\in \\text{ 1 apple,  9 oranges, 2 mangoes}$\n",
    "\n",
    "$p(r) = 0.1$\n",
    "\n",
    "$p(g) = 0.3$\n",
    "\n",
    "$p(b) = 0.4$\n",
    "\n",
    "$p(y) = 0.2$\n",
    "\n",
    "<h2>(a)</h2>\n",
    "\n",
    "What is the probability of selecting an orange?\n",
    "\n",
    "$p(r)\\times p(\\frac{2}{10}) + p(g)\\times p(\\frac{8}{13})+ p(b)\\times  p(\\frac{1}{11}) + p(y)\\times p(\\frac{9}{12}) = $\n",
    "\n",
    "$.1\\times.2 + .3 \\times .62 + .4 \\times .09 + .2 \\times .75 =$\n",
    "\n",
    "$.392$\n",
    "\n",
    "<h2>(b)</h2>\n",
    "If we observe that the selected fruit is in fact a mango, what is the probability that it came from the red box?\n",
    "\n",
    "$p(r|m) = \\frac{p(r, m)}{p(m)} = \\frac{p(m|r)p(r)}{p(m)}$\n",
    "\n",
    "Marginal probability of mango:\n",
    "\n",
    "$p(m) = p(m|r)p(r) + p(m|b)p(b) + p(m|g)p(g) + p(m|y)p(y)$\n",
    "\n",
    "$ = \\frac{3}{10} \\times 0.1 + \\frac{7}{11} \\times 0.4 \\frac{4}{13} \\times .3 + \\frac{2}{12} \\times .2$ \n",
    "\n",
    "$ = 0.03 + .2545 + .0923 + 0.033$\n",
    "\n",
    "$ = 0.410$\n",
    "\n",
    "Since $p(m|r)p(r) = 0.03$, the conditional probability is computed as:\n",
    "\n",
    "$p(r|m)  = \\frac{0.03}{.410} = 0.073$"
   ]
  },
  {
   "cell_type": "markdown",
   "metadata": {},
   "source": [
    "<hr>\n",
    "<h1>Q2:</h1>\n",
    "We are given a set of data points that are down from the density function: \n",
    "$f(x|\\sigma) = \\frac{1}{2\\sigma}exp \\left( -\\frac{|x|}{\\sigma} \\right),\n",
    "-\\infty < x < \\infty, \\sigma > 0$\n",
    "\n",
    "\n",
    "Find the maximum likelyhood estimate of $\\sigma$\n",
    "\n",
    "The log-likelihood function of $x_1, x_2, \\dots, x_n$ is \n",
    "\n",
    "$\\mathscr{l}(\\sigma) = ln p(x_1, x_2, \\dots, x_n | \\sigma)$\n",
    "\n",
    "$ = ln \\prod^n_{i=1} \\frac{1}{2\\sigma}e^{-\\frac{|x_i|}{\\sigma}}$\n",
    "\n",
    "$ = \\sum^n_{i=1}(-ln2 - ln\\sigma - \\frac{|x_i|}{\\sigma})$\n",
    "\n",
    "$ = -nln2 - nln\\sigma - \\frac{\\sum^n_{i=1}|x_i|}{\\sigma}$\n",
    "\n",
    "taking the derivative:\n",
    "\n",
    "$\\frac{\\partial}{\\partial \\sigma}\\mathscr{l}(\\sigma) = -\\frac{n}{\\sigma} = \\frac{\\sum^n_{i=1}|x_i|}{\\sigma^2}$\n",
    "\n",
    "set $\\frac{\\partial}{\\partial \\sigma}\\mathscr{l}(\\sigma) = 0$, getting $\\sigma_{ML} = \\frac{1}{n}\\sum^n_{i = 1}|x_i|$"
   ]
  }
 ],
 "metadata": {
  "kernelspec": {
   "display_name": "Python 3",
   "language": "python",
   "name": "python3"
  },
  "language_info": {
   "codemirror_mode": {
    "name": "ipython",
    "version": 3
   },
   "file_extension": ".py",
   "mimetype": "text/x-python",
   "name": "python",
   "nbconvert_exporter": "python",
   "pygments_lexer": "ipython3",
   "version": "3.6.6"
  }
 },
 "nbformat": 4,
 "nbformat_minor": 2
}
