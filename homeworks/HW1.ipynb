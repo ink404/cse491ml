{
 "cells": [
  {
   "cell_type": "markdown",
   "metadata": {},
   "source": [
    "<h1 align=\"center\"> CSE 491 HW 1</h1>\n",
    "<h4 align=\"center\">Ian Kirkpatrick</h4>"
   ]
  },
  {
   "cell_type": "markdown",
   "metadata": {},
   "source": [
    "<hr>\n",
    "<h1>\n",
    "Q1:\n",
    "</h1>\n",
    "<br>\n",
    "Let\n",
    "<br>\n",
    "\\begin{equation}\n",
    "A = \n",
    "\\left(\\begin{array}{cc} 4 & 1 & 3 & 6 \\\\ 2 & 7 & 5 & 3\\end{array}\\right),\n",
    "B = \n",
    "\\left(\\begin{array}{cc} 0 & 4 \\\\ 7 & 6 \\\\ 5 & 8 \\\\ 3 & 11 \\end{array}\\right),\n",
    "C = \n",
    "\\left(\\begin{array}{cc} -13 & 0 & 2 \\\\ 5 & 2 & 10 \\\\ 0 & 7 & 9 \\end{array}\\right),\n",
    "\\\\\n",
    "D = \n",
    "\\left(\\begin{array}{cc} -13 & 0 & 2 \\\\ 5 & 2 & 10 \\\\ 0 & 7 & 9 \\end{array}\\right),\n",
    "E = \n",
    "\\left(\\begin{array}{cc} -4 & 5 \\\\ 12 & 7 \\end{array}\\right)\n",
    "\\end{equation}"
   ]
  },
  {
   "cell_type": "markdown",
   "metadata": {},
   "source": [
    "<h4 align=\"center\">(a)<br></h4>\n",
    "\\begin{equation}\n",
    "(3B)^t =\n",
    "\\left(\\begin{array}{cc} 0 & 21 & 15 & 9 \\\\ 12 & 18 & 24 & 33 \\end{array}\\right)\n",
    "\\end{equation}"
   ]
  },
  {
   "cell_type": "markdown",
   "metadata": {},
   "source": [
    "<h4 align=\"center\">(b)<br></h4>\n",
    "\\begin{equation}\n",
    "(A-B)^T =\n",
    "\\\\\n",
    "\\text{Can't compute } A-B \\text{ mismatched dimensions }\n",
    "\\end{equation}"
   ]
  },
  {
   "cell_type": "markdown",
   "metadata": {},
   "source": [
    "<h4 align=\"center\">(c)<br></h4>\n",
    "\\begin{equation}\n",
    "(2B^T-A)^T =\n",
    "\\left(\\begin{array}{cc} -4 & 6 \\\\ 13 & 5 \\\\ 7 & 11 \\\\ 0 & 19 \\end{array}\\right)\n",
    "\\end{equation}"
   ]
  },
  {
   "cell_type": "markdown",
   "metadata": {},
   "source": [
    "<h4 align=\"center\">(d)<br></h4>\n",
    "\\begin{equation}\n",
    "(C+2D^T+E)^T = \n",
    "\\\\\n",
    "\\text{Can't compute. } 2D^T \n",
    "\\text{ mismatched dimensions}\n",
    "\\end{equation}\n"
   ]
  },
  {
   "cell_type": "markdown",
   "metadata": {},
   "source": [
    "<h4 align=\"center\">(E)<br></h4>\n",
    "\\begin{equation}\n",
    "(-A)^TE = \n",
    "\\left(\\begin{array}{cc} -8 & -34 \\\\ -80 & -54 \\\\ -48 & -50 \\\\ -12 & -51 \\end{array}\\right)\n",
    "\\end{equation}"
   ]
  },
  {
   "cell_type": "markdown",
   "metadata": {},
   "source": [
    "<hr>\n",
    "<h1>\n",
    "Q2:\n",
    "</h1>\n",
    "<br>\n",
    "Let\n",
    "<br>\n",
    "\\begin{equation}\n",
    "A = \n",
    "\\left(\\begin{array}{cc} 2 & 7 & 3 \\\\ 1 & 0 & 9 \\\\ -1 & 2 & 10 \\end{array}\\right),\n",
    "B = \n",
    "\\left(\\begin{array}{cc} -2 & 0 & 3 \\\\ 2 & -1 & 7 \\\\ 6 & 4 & -3 \\end{array}\\right)\n",
    "\\\\\n",
    "AB = BA?\n",
    "\\\\\n",
    "\\text{No, matricies are not communinative so }\n",
    "\\\\\n",
    "(AB != BA)\n",
    "\\\\\n",
    "\\text{ unless they are simultaneously diagonalizable, which they are not.}\n",
    "\\end{equation}\n",
    "<br>"
   ]
  },
  {
   "cell_type": "markdown",
   "metadata": {},
   "source": [
    "<hr>\n",
    "<h1>\n",
    "Q3:\n",
    "</h1>\n",
    "<br>\n",
    "Given the three vectors:\n",
    "\n",
    "\n",
    "$v_1 = (1,-3, 0,-1),v_2 = (0,1, 1,-3),v_3 = (1,1, -7,-2) \\in \\mathbb{R}^4 \\\\ $\n",
    "\n",
    "<h2>(a)</h2>\n",
    "\n",
    "Show that they form orthogonal set under the standard Euclidean inner product for $\\mathbb{R}^4$ but not an orthonormal set.\n",
    "\n",
    "$v^T_1v_2 = 1 \\times 0 + (-3) \\times 1 + 0 \\times 1 + (-1)\\times(-3) = 0$\n",
    "\n",
    "$v_1^Tv_3 = 1 \\times 1 + (-3) \\times 1 + 0 \\times (-7) + (-1) \\times (-2) = 0$\n",
    "\n",
    "$v^T_2v_3 = 0 \\times 1 + 1 \\times 1 + 1 \\times (-7) + (-3) \\times (-2) = 0$\n",
    "\n",
    "Hence, ${v_1, v_2, v_3}$ form an orthogonal set under the standard Euclidean inner product for $\\mathbb{R}^4$.\n",
    "\n",
    "They do not however form an orthonormal set because:\n",
    "\n",
    "$||v_1||_2 = \\sqrt{11} \\ne 1$\n",
    "\n",
    "$||v_2||_2 = \\sqrt{11} \\ne 1$\n",
    "\n",
    "$||v_3||_2 = \\sqrt{55} \\ne 1$\n",
    "\n",
    "<h2>(b)</h2>\n",
    "\n",
    "Turn them into a set of vectors that will form an orthonormal set of vectors under the standard Euclidean inner product for $\\mathbb{R}^4$\n"
   ]
  },
  {
   "cell_type": "code",
   "execution_count": 17,
   "metadata": {
    "collapsed": true
   },
   "outputs": [],
   "source": [
    "import numpy as np\n",
    "from scipy import linalg as LA"
   ]
  },
  {
   "cell_type": "code",
   "execution_count": 16,
   "metadata": {},
   "outputs": [],
   "source": [
    "A = np.array([[1, -3, 0, 1], [0, 1, 1, -3], [1, 1, -7, -2]])\n",
    "A_norm = LA.orth(A)"
   ]
  },
  {
   "cell_type": "markdown",
   "metadata": {},
   "source": [
    "\\begin{equation}\n",
    "v_1 = (0.09144411, -0.69283631, -0.71527325),\n",
    "\\\\ \n",
    "v_2 = (-0.01236641, 0.71743723, -0.69651339),\n",
    "\\\\\n",
    "v_3 = (-0.99573342, -0.07253741, -0.05703751)\n",
    "\\end{equation}"
   ]
  },
  {
   "cell_type": "markdown",
   "metadata": {},
   "source": [
    "<hr>\n",
    "<h1>\n",
    "Q4:\n",
    "</h1>\n",
    "\n",
    "Given $x\\in \\mathbb{R}^m$, $y \\in \\mathbb{R}^n$ show that the rank of matrix $xy^T$ is one.\n",
    "\n",
    "The outer prodcut generates the matrix whose first row is $x_1(y_1, y_2, \\dots, y_n)$, and the $i^{th}$ row is $x_i(y_1, y_2, \\dots, y_n)$. So the rows are the vector $(y_1, y_2, \\dots, y_n)$ multiplied by scalars which itself is the basis, giving $xy^T$ a rank of one."
   ]
  },
  {
   "cell_type": "markdown",
   "metadata": {},
   "source": [
    "<hr>\n",
    "<h1>Q5:</h1>\n",
    "\n",
    "Given $X = [x_1, x_2, \\dots, x_n] \\in \\mathbb{R}^{m\\times n}$ where $x_i \\in \\mathbb{R}^m \\forall i$. Show that \n",
    "\n",
    "$XY = \\sum^n_{i=1}x_i(y^i)^T$\n",
    "\n",
    "Since $(XY)_{i,j} = \\sum^n_{k=1} x_{ki} y^k_j =\n",
    "\\left( \\sum^n_{k=1}x_i(y^i)^T \\right)_{ij}, XY = \n",
    "\\sum^n_{k=1} x_i (y^i)^T$"
   ]
  },
  {
   "cell_type": "markdown",
   "metadata": {},
   "source": [
    "<hr>\n",
    "\n",
    "<h1>Q6: </h1>\n",
    "Given $X \\in \\mathbb{R}^{m \\times n}$ show that the matrix $X^TX$ is symmetric and positive semidefinite.\n",
    "\n",
    "$(X^TX)^T = X^TX$ making $X^TX$ symmetric\n",
    "\n",
    "When $rank(X) = n$, $X$ is positive definite"
   ]
  },
  {
   "cell_type": "markdown",
   "metadata": {},
   "source": [
    "<hr>\n",
    "<h1>Q7:</h1>\n",
    "Given $g(x,y) = e^{x+y} + e^{3xy} + e^{y^4}$, compute $\\frac{\\partial g}{\\partial x}$ and $\\frac{\\partial g}{\\partial y}$\n",
    "\n",
    "$\\frac{\\partial g}{\\partial x} = e^{(x+y)} + 3ye^{3xy}$\n",
    "\n",
    "$\\frac{\\partial g}{\\partial y} = e^{(x+y)} + 3xe^{3xy} + 4y^3e^{y^4}$"
   ]
  },
  {
   "cell_type": "markdown",
   "metadata": {},
   "source": [
    "<hr>\n",
    "<h1>Q8:</h1>\n",
    "<br>\n",
    "$\n",
    "A = \n",
    "\\left(\\begin{array}{cc} 2 & 1 & 3 \\\\ 1 & 1 & 2 \\\\ 3 & 2 & 5 \\end{array}\\right)\n",
    "$\n",
    "\n",
    "\n",
    "<h2>(a)</h2> compute the eigenvalues and corresponding eigenvectors of $A$\n",
    "\n",
    "$\\begin{bmatrix} 2 - \\lambda & 1 & 3 \\\\ 1 & 1 - \\lambda & 2 \\\\ 3 & 2 & 5 - \\lambda \\end{bmatrix} = -\\lambda^3 + 8\\lambda^2 - 3\\lambda = 0$\n",
    "\n",
    "$\\lambda = 0, \\frac{\\lambda = 8 \\pm \\sqrt{8^2 - 4 \\times 1 \\times 3}}{2\\times 1} = 4 \\pm \\sqrt{13}$ \n",
    "\n",
    "Eigenvalues: $\\lambda  = 0,4 -\\sqrt{13}, 4 + \\sqrt{13}$\n",
    "\n",
    "Eigenvectors:\n",
    "\n",
    "$\\begin{bmatrix} 0.5774 \\\\ 0.5774 \\\\  -0.5774 \\end{bmatrix}$\n",
    "$\\begin{bmatrix} 0.6526 \\\\ -0.7513 \\\\  -0.0988 \\end{bmatrix}$\n",
    "$\\begin{bmatrix} 0.4908 \\\\ 0.3197 \\\\ 0.8105 \\end{bmatrix}$\n",
    "\n",
    "<h2>(b)</h2> compute the eigen-decomposition of $A$\n",
    "\n",
    "$U = \\begin{bmatrix} 0.5774 & 0.6526 & 0.4908 \\\\ \n",
    "0.5774 & -0.7513 & -0.3197\\\\  \n",
    "-0.5774 & 0.0988 & 0.8105\\end{bmatrix}$\n",
    "\n",
    "$D = \\begin{bmatrix} 0 & 0 & 0 \\\\\n",
    "0 & 4-\\sqrt{13} & 0\\\\\n",
    "0 & 0 & 4+\\sqrt{13} \\end{bmatrix}$\n",
    "\n",
    "Eigen-decomposition: $A = UDU^T$\n",
    "\n",
    "<h2>(C)</h2>\n",
    "What is the rank of A?\n",
    "\n",
    "The rank of a is 2 since there are two positive eigenvalues.\n",
    "\n",
    "<h2>(D)</h2>\n",
    "Is $A$ positive definite?\n",
    "\n",
    "No there is one positive eigenvalue and all must be $\\gt 0$ to be positive definite.\n",
    "\n",
    "<h2>(E)</h2>\n",
    "Is $A$ positive semi-definite?\n",
    "\n",
    "Yes since all eigenvalues are $\\ge 0$.\n",
    "\n",
    "<h2>(F)</h2>\n",
    "Is $A$ Singular?\n",
    "\n",
    "Yes, $A$ is not full rank and not ivnertable (since $det(A) = 0$)"
   ]
  }
 ],
 "metadata": {
  "kernelspec": {
   "display_name": "Python 3",
   "language": "python",
   "name": "python3"
  },
  "language_info": {
   "codemirror_mode": {
    "name": "ipython",
    "version": 3
   },
   "file_extension": ".py",
   "mimetype": "text/x-python",
   "name": "python",
   "nbconvert_exporter": "python",
   "pygments_lexer": "ipython3",
   "version": "3.6.6"
  }
 },
 "nbformat": 4,
 "nbformat_minor": 2
}
